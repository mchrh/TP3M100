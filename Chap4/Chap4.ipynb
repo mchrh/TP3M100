{
 "cells": [
  {
   "cell_type": "markdown",
   "metadata": {},
   "source": [
    "# 4.1 Méthode des rectangles"
   ]
  },
  {
   "cell_type": "markdown",
   "metadata": {},
   "source": [
    "    a) Choisir une fonction continue et définir la fonction Python f(x) correspondante. "
   ]
  },
  {
   "cell_type": "code",
   "execution_count": 3,
   "metadata": {
    "collapsed": false
   },
   "outputs": [],
   "source": [
    "import numpy as np\n",
    "\n",
    "def fct1(x):\n",
    "    return np.exp(x**2)"
   ]
  },
  {
   "cell_type": "markdown",
   "metadata": {},
   "source": [
    "    b) Écrire une fonction rectangles(f,a,b,N) qui retourne l'approximation de l'intégrale J"
   ]
  },
  {
   "cell_type": "code",
   "execution_count": 34,
   "metadata": {
    "collapsed": false
   },
   "outputs": [
    {
     "data": {
      "text/plain": [
       "0.3849999999999999"
      ]
     },
     "execution_count": 34,
     "metadata": {},
     "output_type": "execute_result"
    }
   ],
   "source": [
    "def rectangle(f, a, b, N):\n",
    "    z = 0\n",
    "    delta = float(b-a) / N\n",
    "    x = a\n",
    "    for i in range(0, N + 1):\n",
    "        z += f(x) * delta\n",
    "        x += delta\n",
    "    return z\n",
    "\n",
    "rectangle(fct1,0,1,10)"
   ]
  },
  {
   "cell_type": "markdown",
   "metadata": {},
   "source": [
    "        c) Réécrire la fonction rectangle avec un paramètre alpha de [0,1]"
   ]
  },
  {
   "cell_type": "code",
   "execution_count": 35,
   "metadata": {
    "collapsed": true
   },
   "outputs": [],
   "source": [
    "def rectangle2(f,a,b,N,alpha):\n",
    "    if (alpha > 1) or (alpha < 0):\n",
    "        return \"Veuillez entrez une valeur appartenant à [0,1]\"\n",
    "    else :\n",
    "        z = 0\n",
    "        delta = float(b-a) / N\n",
    "        x = a\n",
    "        for i in range(0, N + 1):\n",
    "            z += f(x) * delta\n",
    "            x += delta\n",
    "        return z\n",
    "def f(x):\n",
    "    return rectangle2(fct1,0,1,10,0.5)\n",
    "    \n",
    "  "
   ]
  },
  {
   "cell_type": "markdown",
   "metadata": {},
   "source": [
    "    d) Représentation graphique d'une intégrale approximée par la méthode des rectangles "
   ]
  },
  {
   "cell_type": "code",
   "execution_count": 66,
   "metadata": {
    "collapsed": false
   },
   "outputs": [
    {
     "data": {
      "image/png": "[encoded data removed]",
      "text/plain": [
       "<matplotlib.figure.Figure at 0x7f42681efd10>"
      ]
     },
     "metadata": {},
     "output_type": "display_data"
    }
   ],
   "source": [
    "import matplotlib.patches as patches \n",
    "\n",
    "def plot_rectangle(f,a,b,N,alpha):\n",
    "    delta = (b-a)/N\n",
    "    x=np.linspace(a,b,50)\n",
    "    fig=plt.plot(x,f(x))\n",
    "    axes = fig[0].axes\n",
    "    t=a\n",
    "    while t<b:\n",
    "        axes.add_patch(patches.Rectangle(\n",
    "            (t,0),\n",
    "            1/N,\n",
    "            f(t+alpha*delta))"
   ]
  },
  {
   "cell_type": "markdown",
   "metadata": {},
   "source": [
    "    e) Determiner empiriquement la vitesse de convergence \n",
    "    "
   ]
  },
  {
   "cell_type": "code",
   "execution_count": 59,
   "metadata": {
    "collapsed": false
   },
   "outputs": [
    {
     "name": "stdout",
     "output_type": "stream",
     "text": [
      "The slowest run took 11.39 times longer than the fastest. This could mean that an intermediate result is being cached.\n",
      "1000000 loops, best of 3: 1.57 µs per loop\n"
     ]
    }
   ],
   "source": [
    "%timeit rectangle(fct1, 2, 8, 5)"
   ]
  },
  {
   "cell_type": "markdown",
   "metadata": {},
   "source": [
    "    f) Determiner analytiquement la vitesse de convergence "
   ]
  },
  {
   "cell_type": "markdown",
   "metadata": {},
   "source": [
    "L’aire approchée obtenue par la méthode des rectangles converge vers l’intégrale de la fonction f(x) quand n tend vers l'infini. Car si f est une fonction de classe C1 sur [a,b] on peut majorer l'erreur par [M(b-a)^2]/2n où M est un majorant de |f'| sur [a,b].\n",
    "La convergence est donc très lente. Il faudrait un ordre de grandeur de 10^1O intervalles pour obtenir une valeur approchée correcte à dix décimales près."
   ]
  },
  {
   "cell_type": "markdown",
   "metadata": {},
   "source": [
    "# 4.2 Méthode des trapèzes"
   ]
  },
  {
   "cell_type": "markdown",
   "metadata": {},
   "source": [
    "    a) Écrire une fonction python trapezes(f,a,b,N) qui retourne l'approximation de l'intégrale J par la méthode des trapèzes"
   ]
  },
  {
   "cell_type": "code",
   "execution_count": 72,
   "metadata": {
    "collapsed": false
   },
   "outputs": [],
   "source": [
    "def trapezes(f,a,b,N):\n",
    "    delta = (b-a)/float(N)\n",
    "    z = 0.5*(f(a) + f(b))\n",
    "    for i in range(1,N):\n",
    "        z=+f(a+i*delta)\n",
    "    return delta*z\n"
   ]
  },
  {
   "cell_type": "markdown",
   "metadata": {},
   "source": [
    "    b) Vitesse de CV de manière analytique "
   ]
  },
  {
   "cell_type": "markdown",
   "metadata": {},
   "source": [
    "En prenant une fonction f(x) de classe C2 sur le segment [a,b], on peut majorer l'erreur par [M(b-a)^3]/(12n^2). On peut voir qu'elle convergence plus rapidement que la méthode des rectangles (grace au carré dans le dénominateur). Il faudrait environ 1O^5 intervalles pour obtenir une valeur approchée à dix décimales près."
   ]
  },
  {
   "cell_type": "markdown",
   "metadata": {},
   "source": [
    "    c) Determiner empiriquement la vitesse de convergence de la méthode des trapèzes "
   ]
  },
  {
   "cell_type": "code",
   "execution_count": 73,
   "metadata": {
    "collapsed": false
   },
   "outputs": [
    {
     "name": "stdout",
     "output_type": "stream",
     "text": [
      "The slowest run took 4.79 times longer than the fastest. This could mean that an intermediate result is being cached.\n",
      "1000000 loops, best of 3: 1.44 µs per loop\n"
     ]
    }
   ],
   "source": [
    "%timeit trapezes(fct1, 2, 8, 5)"
   ]
  },
  {
   "cell_type": "markdown",
   "metadata": {},
   "source": [
    "# Méthode de Monte Carlo"
   ]
  },
  {
   "cell_type": "markdown",
   "metadata": {},
   "source": [
    "    a) Écrire une fonction montecarlo(f,a,b,N) qui détermine une approximation de J par la méthode de Monte-Carlo. "
   ]
  },
  {
   "cell_type": "code",
   "execution_count": 10,
   "metadata": {
    "collapsed": true
   },
   "outputs": [
    {
     "data": {
      "text/plain": [
       "1.441544813985801"
      ]
     },
     "execution_count": 10,
     "metadata": {},
     "output_type": "execute_result"
    }
   ],
   "source": [
    "import numpy.random\n",
    "import random\n",
    "import math\n",
    "import numpy\n",
    "\n",
    "def montecarlo(f,a,b,N):\n",
    "    x = a+(b-a)*numpy.random.random_sample(N)\n",
    "    p = 1.0/(b-a)\n",
    "    F = f(x)\n",
    "    moyenne = F.sum()/(N*p)\n",
    "    G = F**2\n",
    "    variance = G.sum()*1.0/(N*p*p)-moyenne*moyenne\n",
    "    return (moyenne)\n",
    "\n",
    "montecarlo(fct1,0,1,20)"
   ]
  },
  {
   "cell_type": "markdown",
   "metadata": {},
   "source": [
    "    b) Afficher la variance empirique aussi "
   ]
  },
  {
   "cell_type": "code",
   "execution_count": 11,
   "metadata": {},
   "outputs": [
    {
     "data": {
      "text/plain": [
       "(1.4621495639205768, 0.20221216305747494)"
      ]
     },
     "execution_count": 11,
     "metadata": {},
     "output_type": "execute_result"
    }
   ],
   "source": [
    "import numpy.random\n",
    "import random\n",
    "import math\n",
    "import numpy\n",
    "\n",
    "def montecarlo(f,a,b,N):\n",
    "    x = a+(b-a)*numpy.random.random_sample(N)\n",
    "    p = 1.0/(b-a)\n",
    "    F = f(x)\n",
    "    moyenne = F.sum()/(N*p)\n",
    "    G = F**2\n",
    "    variance = G.sum()*1.0/(N*p*p)-moyenne*moyenne\n",
    "    return (moyenne,math.sqrt(variance/N)*1.96)\n",
    "\n",
    "montecarlo(fct1,0,1,20)"
   ]
  },
  {
   "cell_type": "markdown",
   "metadata": {},
   "source": [
    "    c) Vitesse de CV empirique"
   ]
  },
  {
   "cell_type": "code",
   "execution_count": 13,
   "metadata": {},
   "outputs": [
    {
     "name": "stdout",
     "output_type": "stream",
     "text": [
      "10.8 µs ± 205 ns per loop (mean ± std. dev. of 7 runs, 100000 loops each)\n"
     ]
    }
   ],
   "source": [
    "%timeit montecarlo(fct1,0,1,20)"
   ]
  },
  {
   "cell_type": "markdown",
   "metadata": {},
   "source": [
    "    d) Vitesse de CV analytique"
   ]
  },
  {
   "cell_type": "code",
   "execution_count": null,
   "metadata": {},
   "outputs": [],
   "source": []
  },
  {
   "cell_type": "markdown",
   "metadata": {},
   "source": [
    "# 4.4 Méthode de Simpson"
   ]
  },
  {
   "cell_type": "markdown",
   "metadata": {},
   "source": [
    "    a) Déterminer la forme explicite du polynôme p_n\n",
    "\n"
   ]
  },
  {
   "cell_type": "code",
   "execution_count": 20,
   "metadata": {},
   "outputs": [
    {
     "data": {
      "text/html": [
       "<img src=\"polynome_pn.png\"/>"
      ],
      "text/plain": [
       "<IPython.core.display.Image object>"
      ]
     },
     "execution_count": 20,
     "metadata": {},
     "output_type": "execute_result"
    }
   ],
   "source": [
    "from IPython.display import Image\n",
    "from IPython.core.display import HTML \n",
    "Image(url= \"polynome_pn.png\")\n",
    "\n",
    "# Le polynôme peut s'écrire de la forme suivante "
   ]
  },
  {
   "cell_type": "markdown",
   "metadata": {},
   "source": [
    "    b) Approximation d'une intégrale "
   ]
  },
  {
   "cell_type": "code",
   "execution_count": 21,
   "metadata": {},
   "outputs": [
    {
     "data": {
      "text/html": [
       "<img src=\"integrale_2.png\"/>"
      ],
      "text/plain": [
       "<IPython.core.display.Image object>"
      ]
     },
     "execution_count": 21,
     "metadata": {},
     "output_type": "execute_result"
    }
   ],
   "source": [
    "from IPython.display import Image\n",
    "from IPython.core.display import HTML \n",
    "Image(url= \"integrale_2.png\")\n",
    "\n",
    "# La valeur de l'intégrale "
   ]
  },
  {
   "cell_type": "markdown",
   "metadata": {},
   "source": [
    "    c)  Simplifier à la main la somme des J_n approchés "
   ]
  },
  {
   "cell_type": "code",
   "execution_count": null,
   "metadata": {},
   "outputs": [],
   "source": []
  },
  {
   "cell_type": "markdown",
   "metadata": {},
   "source": [
    "    d) Écrire une fonction simpson(f,a,b,N) permettant de calculer une approximation de J avec la méthode de Simpson."
   ]
  },
  {
   "cell_type": "code",
   "execution_count": 18,
   "metadata": {},
   "outputs": [
    {
     "data": {
      "text/plain": [
       "1.4626536248862967"
      ]
     },
     "execution_count": 18,
     "metadata": {},
     "output_type": "execute_result"
    }
   ],
   "source": [
    "def simpson(f,a,b,N):\n",
    "    delta = (b-a)/float(N)\n",
    "    z=(f(a)+f(b))/6\n",
    "    for i in range(1,N):\n",
    "        z=z+f(a+i*delta)/3\n",
    "    for i in range(N):\n",
    "        z=z+f(a+(2*i+1)*delta/2)*2/3\n",
    "    return delta*z\n",
    "\n",
    "simpson(fct1,0,1,10)"
   ]
  },
  {
   "cell_type": "markdown",
   "metadata": {},
   "source": [
    "    e) Comparer la précision des méthodes des rectangles, des trapèzes et de Simpson en fonction de N\n"
   ]
  },
  {
   "cell_type": "markdown",
   "metadata": {},
   "source": [
    "Pour l'exemple j'ai décidé de calculer la valeur de ln(2) en utilisant une intégrale. \n",
    "\n",
    "> Pour n = 3\n",
    "    - Rectangles : 0.7833333333333333\n",
    "    - Trapèzes : 0.7\n",
    "    - Simpson : 0.6931697931697931\n",
    "    \n",
    "> Pour n = 10\n",
    "    - Rectangles : 0.718771403175428\n",
    "    - Trapèzes : 0.693771403175428\n",
    "    - Simpson : 0.0.693147374665116\n",
    "\n",
    "> Pour n = 1000\n",
    "    - Rectangles : 0.6933972430599373\n",
    "    - Trapèzes : 0.6931472430599374\n",
    "    - Simpson : 0.6931471805599484\n"
   ]
  },
  {
   "cell_type": "markdown",
   "metadata": {},
   "source": [
    "# 4.5 Module scipy.integrate"
   ]
  },
  {
   "cell_type": "code",
   "execution_count": 15,
   "metadata": {},
   "outputs": [
    {
     "data": {
      "text/plain": [
       "0.025022841213644596"
      ]
     },
     "execution_count": 15,
     "metadata": {},
     "output_type": "execute_result"
    }
   ],
   "source": [
    "import math, scipy.integrate\n",
    "def integrand(t, n, x):\n",
    "    return math.exp(-x*t)/t**n\n",
    "def E(n, x):\n",
    "    return scipy.integrate.quad(integrand, 1, math.inf, args=(n, x))[0]\n",
    "E(4,2)"
   ]
  },
  {
   "cell_type": "code",
   "execution_count": null,
   "metadata": {},
   "outputs": [],
   "source": []
  },
  {
   "cell_type": "code",
   "execution_count": null,
   "metadata": {},
   "outputs": [],
   "source": []
  }
 ],
 "metadata": {
  "anaconda-cloud": {},
  "kernelspec": {
   "display_name": "Python 3",
   "language": "python",
   "name": "python3"
  },
  "language_info": {
   "codemirror_mode": {
    "name": "ipython",
    "version": 3
   },
   "file_extension": ".py",
   "mimetype": "text/x-python",
   "name": "python",
   "nbconvert_exporter": "python",
   "pygments_lexer": "ipython3",
   "version": "3.6.5"
  }
 },
 "nbformat": 4,
 "nbformat_minor": 2
}
