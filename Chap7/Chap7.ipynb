{
 "cells": [
  {
   "cell_type": "markdown",
   "metadata": {},
   "source": [
    "# 7.1 Méthode de Newton en une dimension"
   ]
  },
  {
   "cell_type": "markdown",
   "metadata": {},
   "source": [
    "    a) Implémentation méthode de Newton 1D"
   ]
  },
  {
   "cell_type": "code",
   "execution_count": 1,
   "metadata": {},
   "outputs": [],
   "source": [
    "import numpy as np\n",
    "import math\n",
    " \n",
    "\n",
    "\n",
    "def newton1d(f,df,x0,eps=1e-10,N=1000):\n",
    "    x=x0\n",
    "    i=0\n",
    "    while abs(f(x))>eps and i<N:\n",
    "        x = x0 - f(x0)/df(x0)\n",
    "        i=i+1\n",
    "        x0=x\n",
    "    if i==N:\n",
    "        return \"Erreur!\"\n",
    "    else:\n",
    "        return x\n"
   ]
  },
  {
   "cell_type": "markdown",
   "metadata": {},
   "source": [
    "       b) Calcul d'une solution approchée "
   ]
  },
  {
   "cell_type": "code",
   "execution_count": 59,
   "metadata": {},
   "outputs": [
    {
     "data": {
      "text/plain": [
       "0.56714329037963829"
      ]
     },
     "execution_count": 59,
     "metadata": {},
     "output_type": "execute_result"
    }
   ],
   "source": [
    "def f(x):\n",
    "    y = np.exp(-x) - x \n",
    "    return y \n",
    "    \n",
    "def df(x):\n",
    "    y = -np.exp(-x)-1\n",
    "    return y\n",
    "\n",
    "newton1d(f,df,x0=2,eps=1e-10,N=1000)"
   ]
  },
  {
   "cell_type": "markdown",
   "metadata": {},
   "source": [
    "    c) Calcul racine n-ième"
   ]
  },
  {
   "cell_type": "code",
   "execution_count": 74,
   "metadata": {},
   "outputs": [
    {
     "data": {
      "text/plain": [
       "2"
      ]
     },
     "execution_count": 74,
     "metadata": {},
     "output_type": "execute_result"
    }
   ],
   "source": [
    "from math import *\n",
    "\n",
    "def racine(x,n):\n",
    "    def g(y):\n",
    "        return (y**n) - x\n",
    "    def dg(y):\n",
    "        return n*(y**(n-1))\n",
    "    return newton1d(g,dg,x0=2,eps=1e-10,N=1000)\n",
    "    \n",
    "racine(4,2)"
   ]
  },
  {
   "cell_type": "markdown",
   "metadata": {},
   "source": [
    "    d) Méthode de la sécante"
   ]
  },
  {
   "cell_type": "code",
   "execution_count": 6,
   "metadata": {},
   "outputs": [],
   "source": [
    "def secante(f,x0,x1,epsilon=1e-10,N=100):\n",
    "    if f(x0) == f(x1):\n",
    "        if abs(f(x0)) > epsilon:\n",
    "            raise ValueError('Erreur')\n",
    "        else:\n",
    "            return (x0,0)\n",
    "    x0,x1 = x1, x0-(x1-x0)*f(x0) / (f(x1)-f(x0))\n",
    "    k = 0\n",
    "    while (abs(x1-x0)>= epsilon) and (k<N):\n",
    "        x0,x1 = x1, x0-(x1-x0)*f(x0) / (f(x1)-f(x0))\n",
    "        k=k+1\n",
    "    if k<100:\n",
    "        return (x1,k)\n",
    "    else:\n",
    "        raise ValueError('La méthode diverge.')\n",
    "        "
   ]
  },
  {
   "cell_type": "markdown",
   "metadata": {},
   "source": [
    "# 7.2 Méthode de Newton en plusieurs dimensions "
   ]
  },
  {
   "cell_type": "markdown",
   "metadata": {},
   "source": [
    "    a) Implémentation de la méthode en Python"
   ]
  },
  {
   "cell_type": "code",
   "execution_count": 7,
   "metadata": {},
   "outputs": [],
   "source": [
    "import numpy as np\n",
    "\n",
    "def newtonMD(f,df,x,eps=1e-4,N=100):\n",
    "    valeur_f = f(x)\n",
    "    norme_f = np.linalg.norm(valeur_f, ord=2)\n",
    "    k=0\n",
    "    while abs(norme_f) > eps and k < N:\n",
    "        delta=np.linalg.solve(df(x), -valeur_f)\n",
    "        x=x+delta\n",
    "        valeur_f=f(x)\n",
    "        norme_f=np.linalg.norm(valeur_f, ord=2)\n",
    "        k=k+1"
   ]
  },
  {
   "cell_type": "markdown",
   "metadata": {},
   "source": [
    "    b) Résolution du système"
   ]
  },
  {
   "cell_type": "code",
   "execution_count": 12,
   "metadata": {},
   "outputs": [],
   "source": [
    "def f(x):\n",
    "    return np.array(\n",
    "    np.cos(x[0])- np.sin(x[1]),\n",
    "    np.exp(-x[0])-np.cos(x[1]))\n",
    "\n",
    "def df(x):\n",
    "    return np.array(\n",
    "    [[-np.sin(x[0]), -np.cos(x[1])],\n",
    "    [-np.exp(-x[0]), np.sin(x[1])]])\n",
    "\n",
    "newtonMD(f,df,x=np.array([2, -1]),eps=1e-4,N=100)"
   ]
  },
  {
   "cell_type": "markdown",
   "metadata": {},
   "source": [
    "# 7.3 Attracteur de la méthode de Newton"
   ]
  },
  {
   "cell_type": "code",
   "execution_count": null,
   "metadata": {},
   "outputs": [],
   "source": []
  }
 ],
 "metadata": {
  "anaconda-cloud": {},
  "kernelspec": {
   "display_name": "Python 3",
   "language": "python",
   "name": "python3"
  },
  "language_info": {
   "codemirror_mode": {
    "name": "ipython",
    "version": 3
   },
   "file_extension": ".py",
   "mimetype": "text/x-python",
   "name": "python",
   "nbconvert_exporter": "python",
   "pygments_lexer": "ipython3",
   "version": "3.6.5"
  }
 },
 "nbformat": 4,
 "nbformat_minor": 1
}
